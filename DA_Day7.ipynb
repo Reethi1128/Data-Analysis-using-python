{
  "nbformat": 4,
  "nbformat_minor": 0,
  "metadata": {
    "colab": {
      "provenance": []
    },
    "kernelspec": {
      "name": "python3",
      "display_name": "Python 3"
    },
    "language_info": {
      "name": "python"
    }
  },
  "cells": [
    {
      "cell_type": "code",
      "execution_count": null,
      "metadata": {
        "id": "_lFVqvL18FIQ"
      },
      "outputs": [],
      "source": [
        "import tensorflow as tf\n",
        "from tensorflow import keras\n",
        "from tensorflow.keras import layers\n",
        "from tensorflow.keras.preprocessing.image import ImageDataGenerator\n"
      ]
    },
    {
      "cell_type": "code",
      "source": [
        "#define image size and batch size\n",
        "IMG_SIZE=224\n",
        "BATCH_SIZE=32"
      ],
      "metadata": {
        "id": "uAjhzYgQ9QA7"
      },
      "execution_count": null,
      "outputs": []
    },
    {
      "cell_type": "code",
      "source": [
        "#Define data generators for train, validation and test sets\n",
        "train_datagen= ImageDataGenerator(\n",
        "    rescale=1./255,\n",
        "    validation_split=0.2\n",
        ")\n",
        "train_generator= train_datagen.flow_from_directory(\n",
        "    '/content/drive/MyDrive/Brain_Tumor_Detection/Train',\n",
        "    target_size = (IMG_SIZE, IMG_SIZE),\n",
        "    batch_size = BATCH_SIZE,\n",
        "    class_mode = 'binary',\n",
        "    subset='training'\n",
        ")\n",
        "val_generator= train_datagen.flow_from_directory(\n",
        "    '/content/drive/MyDrive/Brain_Tumor_Detection/Train',\n",
        "    target_size = (IMG_SIZE, IMG_SIZE),\n",
        "    batch_size = BATCH_SIZE,\n",
        "    class_mode = 'binary',\n",
        "    subset='validation'\n",
        ")\n",
        "test_datagen= ImageDataGenerator(\n",
        "    rescale=1./255\n",
        ")\n",
        "\n",
        "test_generator= train_datagen.flow_from_directory(\n",
        "    '/content/drive/MyDrive/Brain_Tumor_Detection/Test',\n",
        "    target_size = (IMG_SIZE, IMG_SIZE),\n",
        "    batch_size = BATCH_SIZE,\n",
        "    class_mode = 'binary'\n",
        ")"
      ],
      "metadata": {
        "colab": {
          "base_uri": "https://localhost:8080/"
        },
        "id": "1mPQ_Zb_AfZ6",
        "outputId": "ce551e50-7544-4f33-f562-89c9b92a04d2"
      },
      "execution_count": null,
      "outputs": [
        {
          "output_type": "stream",
          "name": "stdout",
          "text": [
            "Found 2408 images belonging to 2 classes.\n",
            "Found 602 images belonging to 2 classes.\n",
            "Found 60 images belonging to 1 classes.\n"
          ]
        }
      ]
    },
    {
      "cell_type": "code",
      "source": [
        "from google.colab import drive\n",
        "drive.mount('/content/drive')"
      ],
      "metadata": {
        "colab": {
          "base_uri": "https://localhost:8080/"
        },
        "id": "X6uTe29oiIRs",
        "outputId": "4c09c80d-aadc-4751-9e68-93d9fbcc9f34"
      },
      "execution_count": null,
      "outputs": [
        {
          "output_type": "stream",
          "name": "stdout",
          "text": [
            "Mounted at /content/drive\n"
          ]
        }
      ]
    },
    {
      "cell_type": "code",
      "source": [
        "#define the model\n",
        "model=keras.Sequential([\n",
        "    layers.Conv2D(32,(3,3),activation='relu',input_shape=(IMG_SIZE,IMG_SIZE,3)),\n",
        "    layers.MaxPooling2D((2,2)),\n",
        "    layers.Conv2D(64,(3,3),activation='relu'),\n",
        "    layers.MaxPooling2D((2,2)),\n",
        "    layers.Conv2D(128,(3,3),activation='relu'),\n",
        "    layers.MaxPooling2D((2,2)),\n",
        "    layers.Flatten(),\n",
        "    layers.Dense(128,activation='relu'),\n",
        "    layers.Dense(1,activation='sigmoid')\n",
        "])"
      ],
      "metadata": {
        "id": "34y7MIruhGrb"
      },
      "execution_count": null,
      "outputs": []
    },
    {
      "cell_type": "code",
      "source": [
        "#Compile the model\n",
        "model.compile(optimizer='adam',loss='binary_crossentropy',metrics=['accuracy'])"
      ],
      "metadata": {
        "id": "hvljE_1rmUzD"
      },
      "execution_count": null,
      "outputs": []
    },
    {
      "cell_type": "code",
      "source": [
        "#Fitting the model\n",
        "history=model.fit(train_generator,validation_data=val_generator,epochs=5)"
      ],
      "metadata": {
        "colab": {
          "base_uri": "https://localhost:8080/"
        },
        "id": "5o8b2Zdkmv1f",
        "outputId": "a1b65afd-797f-4df3-9f56-86ecd95b74df"
      },
      "execution_count": null,
      "outputs": [
        {
          "output_type": "stream",
          "name": "stdout",
          "text": [
            "Epoch 1/5\n",
            "76/76 [==============================] - 654s 9s/step - loss: 0.5219 - accuracy: 0.7762 - val_loss: 0.3230 - val_accuracy: 0.8721\n",
            "Epoch 2/5\n",
            "76/76 [==============================] - 278s 4s/step - loss: 0.2363 - accuracy: 0.9124 - val_loss: 0.1390 - val_accuracy: 0.9518\n",
            "Epoch 3/5\n",
            "76/76 [==============================] - 284s 4s/step - loss: 0.1381 - accuracy: 0.9522 - val_loss: 0.1188 - val_accuracy: 0.9668\n",
            "Epoch 4/5\n",
            "76/76 [==============================] - 299s 4s/step - loss: 0.0667 - accuracy: 0.9801 - val_loss: 0.0318 - val_accuracy: 0.9884\n",
            "Epoch 5/5\n",
            "76/76 [==============================] - 324s 4s/step - loss: 0.0268 - accuracy: 0.9921 - val_loss: 0.0312 - val_accuracy: 0.9917\n"
          ]
        }
      ]
    },
    {
      "cell_type": "code",
      "source": [
        "#saving the model\n",
        "model.save(\"Model.h5\",\"label.txt\")"
      ],
      "metadata": {
        "id": "4nJlkI1zrUN1"
      },
      "execution_count": null,
      "outputs": []
    },
    {
      "cell_type": "code",
      "source": [
        "from tensorflow.keras.models import load_model\n",
        "from tensorflow.keras.preprocessing import image\n",
        "import numpy as np\n",
        "\n",
        "#Load the saved model\n",
        "model =load_model('/content/Model.h5')\n",
        "\n",
        "#Load and preprocess the test image\n",
        "test_image_path='/content/drive/MyDrive/Brain_Tumor_Detection/Test/pred/pred27.jpg'\n",
        "img=image.load_img(test_image_path, target_size=(224,224))\n",
        "img_array=image.img_to_array(img)\n",
        "img_array=np.expand_dims(img_array,axis=0)#add batch dimension\n",
        "img_array/=255. #Normalize the pixel values\n",
        "\n",
        "#make predictions\n",
        "prediction=model.predict(img_array)\n",
        "\n",
        "#print the predictions\n",
        "if prediction < 0.5:\n",
        "  print(\"Prediction: No Tumor (Probability:\",prediction[0][0],\")\")\n",
        "else:\n",
        "  print(\"Prediction: Tumor present (Probability:\",prediction[0][0],\")\")"
      ],
      "metadata": {
        "colab": {
          "base_uri": "https://localhost:8080/"
        },
        "id": "jObIK2xhscRu",
        "outputId": "5873b291-56ed-44c1-afdf-dc2c190f4ad2"
      },
      "execution_count": null,
      "outputs": [
        {
          "output_type": "stream",
          "name": "stdout",
          "text": [
            "1/1 [==============================] - 0s 112ms/step\n",
            "Prediction: Tumor present (Probability: 0.99999917 )\n"
          ]
        }
      ]
    },
    {
      "cell_type": "code",
      "source": [],
      "metadata": {
        "id": "aVaLgKcQySm4"
      },
      "execution_count": null,
      "outputs": []
    }
  ]
}